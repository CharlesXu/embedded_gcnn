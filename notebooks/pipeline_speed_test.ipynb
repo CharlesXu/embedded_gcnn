{
 "cells": [
  {
   "cell_type": "markdown",
   "metadata": {
    "deletable": true,
    "editable": true
   },
   "source": [
    "# Pipeline Speed Test"
   ]
  },
  {
   "cell_type": "code",
   "execution_count": 3,
   "metadata": {
    "collapsed": false,
    "deletable": true,
    "editable": true
   },
   "outputs": [],
   "source": [
    "import sys\n",
    "sys.path.insert(0, '..')\n",
    "import time\n",
    "\n",
    "import matplotlib.pyplot as plt\n",
    "\n",
    "%matplotlib inline"
   ]
  },
  {
   "cell_type": "code",
   "execution_count": 4,
   "metadata": {
    "collapsed": false,
    "deletable": true,
    "editable": true
   },
   "outputs": [],
   "source": [
    "from lib.segmentation import segmentation_adjacency, FormFeatureExtraction\n",
    "from lib.graph import coarsen_adj, perm_features\n",
    "\n",
    "def pipeline(image, segmentation_algorithm):\n",
    "    t_segmentation = time.process_time()\n",
    "    segmentation = segmentation_algorithm(image)\n",
    "    t_segmentation = time.process_time() - t_segmentation\n",
    "    \n",
    "    t_adjacency = time.process_time()\n",
    "    adj, points, mass = segmentation_adjacency(segmentation)\n",
    "    t_adjacency = time.process_time() - t_adjacency\n",
    "    \n",
    "    t_coarsen = time.process_time() \n",
    "    adjs_dist, adjs_rad, perm = coarsen_adj(adj, points, mass, levels=4)\n",
    "    t_coarsen = time.process_time() - t_coarsen\n",
    "    \n",
    "    t_features = time.process_time()\n",
    "    features = FormFeatureExtraction(segmentation).get_features()\n",
    "    t_features = time.process_time() - t_features\n",
    "    \n",
    "    t_perm = time.process_time()\n",
    "    features = perm_features(features, perm)\n",
    "    t_perm = time.process_time() - t_perm\n",
    "    \n",
    "    t_all = t_segmentation + t_adjacency + t_coarsen + t_features + t_perm\n",
    "    \n",
    "    p_segmentation = 100 * t_segmentation / t_all\n",
    "    p_adjacency = 100 * t_adjacency / t_all\n",
    "    p_coarsen = 100 * t_coarsen / t_all\n",
    "    p_features = 100 * t_features / t_all\n",
    "    p_perm = 100 * t_perm / t_all\n",
    "    \n",
    "    print('Number of nodes: {}'.format(features.shape[0]))\n",
    "    print('Execution time: {:.5f}s'.format(t_all))\n",
    "    print('0. Segmentation: {:.5f}s, {:.2f}%'.format(t_segmentation, p_segmentation))\n",
    "    print('1. Adjacency generation: {:.5f}s, {:.2f}%'.format(t_adjacency, p_adjacency))\n",
    "    print('2. Coarsening: {:.5f}s, {:.2f}%'.format(t_coarsen, p_coarsen))\n",
    "    print('3. Feature extraction: {:.5f}s, {:.2f}%'.format(t_features, p_features))\n",
    "    print('4. Feature permutation: {:.5f}s, {:.2f}%'.format(t_perm, p_perm))\n",
    "    \n",
    "    plt.bar(range(5), [p_segmentation, p_adjacency, p_coarsen, p_features, p_perm], color=\"black\")\n",
    "    plt.ylabel('Percentage')"
   ]
  },
  {
   "cell_type": "markdown",
   "metadata": {
    "deletable": true,
    "editable": true
   },
   "source": [
    "## Load Datasets"
   ]
  },
  {
   "cell_type": "code",
   "execution_count": 5,
   "metadata": {
    "collapsed": false,
    "deletable": true,
    "editable": true
   },
   "outputs": [
    {
     "name": "stdout",
     "output_type": "stream",
     "text": [
      "Extracting ../data/mnist/train-images-idx3-ubyte.gz\n",
      "Extracting ../data/mnist/train-labels-idx1-ubyte.gz\n",
      "Extracting ../data/mnist/t10k-images-idx3-ubyte.gz\n",
      "Extracting ../data/mnist/t10k-labels-idx1-ubyte.gz\n",
      ">> Reading ../test_data/VOCdevkit/VOC2012 100.00%\n"
     ]
    }
   ],
   "source": [
    "from lib.datasets import MNIST, Cifar10, PascalVOC\n",
    "\n",
    "mnist = MNIST('../data/mnist').test.next_batch(1, shuffle=False)[0][0]\n",
    "cifar_10 = Cifar10('../data/cifar_10').test.next_batch(2, shuffle=False)[0][1]\n",
    "pascal_voc = PascalVOC('../test_data').test.next_batch(3, shuffle=False)[0][2]"
   ]
  },
  {
   "cell_type": "code",
   "execution_count": 6,
   "metadata": {
    "collapsed": true,
    "deletable": true,
    "editable": true
   },
   "outputs": [],
   "source": [
    "from lib.segmentation import slic_fixed, quickshift_fixed"
   ]
  },
  {
   "cell_type": "markdown",
   "metadata": {
    "deletable": true,
    "editable": true
   },
   "source": [
    "## MNIST SLIC"
   ]
  },
  {
   "cell_type": "code",
   "execution_count": 7,
   "metadata": {
    "collapsed": false,
    "deletable": true,
    "editable": true
   },
   "outputs": [
    {
     "name": "stdout",
     "output_type": "stream",
     "text": [
      "Number of nodes: 80\n",
      "Execution time: 0.01808s\n",
      "0. Segmentation: 0.00513s, 28.36%\n",
      "1. Adjacency generation: 0.00071s, 3.95%\n",
      "2. Coarsening: 0.01008s, 55.74%\n",
      "3. Feature extraction: 0.00214s, 11.81%\n",
      "4. Feature permutation: 0.00003s, 0.14%\n"
     ]
    },
    {
     "data": {
      "image/png": "[encoded data removed]",
      "text/plain": [
       "<matplotlib.figure.Figure at 0x1393e4f28>"
      ]
     },
     "metadata": {},
     "output_type": "display_data"
    }
   ],
   "source": [
    "slic = slic_fixed(num_segments=100, compactness=5, max_iterations=10, sigma=0)\n",
    "pipeline(mnist, slic)"
   ]
  },
  {
   "cell_type": "markdown",
   "metadata": {
    "deletable": true,
    "editable": true
   },
   "source": [
    "## MNIST Quickshift"
   ]
  },
  {
   "cell_type": "code",
   "execution_count": 8,
   "metadata": {
    "collapsed": false,
    "deletable": true,
    "editable": true
   },
   "outputs": [
    {
     "name": "stdout",
     "output_type": "stream",
     "text": [
      "Number of nodes: 96\n",
      "Execution time: 0.02269s\n",
      "0. Segmentation: 0.01066s, 47.00%\n",
      "1. Adjacency generation: 0.00059s, 2.61%\n",
      "2. Coarsening: 0.00953s, 41.98%\n",
      "3. Feature extraction: 0.00188s, 8.30%\n",
      "4. Feature permutation: 0.00003s, 0.11%\n"
     ]
    },
    {
     "data": {
      "image/png": "[encoded data removed]",
      "text/plain": [
       "<matplotlib.figure.Figure at 0x10ff41898>"
      ]
     },
     "metadata": {},
     "output_type": "display_data"
    }
   ],
   "source": [
    "quickshift = quickshift_fixed(ratio=1, kernel_size=2, max_dist=2, sigma=0)\n",
    "pipeline(mnist, quickshift)"
   ]
  },
  {
   "cell_type": "markdown",
   "metadata": {
    "collapsed": true,
    "deletable": true,
    "editable": true
   },
   "source": [
    "## Cifar10 SLIC"
   ]
  },
  {
   "cell_type": "code",
   "execution_count": 9,
   "metadata": {
    "collapsed": false,
    "deletable": true,
    "editable": true
   },
   "outputs": [
    {
     "name": "stdout",
     "output_type": "stream",
     "text": [
      "Number of nodes: 160\n",
      "Execution time: 0.01860s\n",
      "0. Segmentation: 0.00416s, 22.35%\n",
      "1. Adjacency generation: 0.00079s, 4.26%\n",
      "2. Coarsening: 0.01155s, 62.11%\n",
      "3. Feature extraction: 0.00206s, 11.09%\n",
      "4. Feature permutation: 0.00004s, 0.19%\n"
     ]
    },
    {
     "data": {
      "image/png": "[encoded data removed]",
      "text/plain": [
       "<matplotlib.figure.Figure at 0x11f8970f0>"
      ]
     },
     "metadata": {},
     "output_type": "display_data"
    }
   ],
   "source": [
    "slic = slic_fixed(num_segments=150, compactness=5, max_iterations=10, sigma=0)\n",
    "pipeline(cifar_10, slic)"
   ]
  },
  {
   "cell_type": "markdown",
   "metadata": {
    "deletable": true,
    "editable": true
   },
   "source": [
    "## Cifar10 Quickshift"
   ]
  },
  {
   "cell_type": "code",
   "execution_count": 10,
   "metadata": {
    "collapsed": false,
    "deletable": true,
    "editable": true
   },
   "outputs": [
    {
     "name": "stdout",
     "output_type": "stream",
     "text": [
      "Number of nodes: 208\n",
      "Execution time: 0.02535s\n",
      "0. Segmentation: 0.00849s, 33.47%\n",
      "1. Adjacency generation: 0.00080s, 3.15%\n",
      "2. Coarsening: 0.01382s, 54.53%\n",
      "3. Feature extraction: 0.00215s, 8.49%\n",
      "4. Feature permutation: 0.00009s, 0.37%\n"
     ]
    },
    {
     "data": {
      "image/png": "[encoded data removed]",
      "text/plain": [
       "<matplotlib.figure.Figure at 0x11f93be80>"
      ]
     },
     "metadata": {},
     "output_type": "display_data"
    }
   ],
   "source": [
    "quickshift = quickshift_fixed(ratio=1, kernel_size=1, max_dist=5, sigma=0)\n",
    "pipeline(cifar_10, quickshift)"
   ]
  },
  {
   "cell_type": "markdown",
   "metadata": {
    "deletable": true,
    "editable": true
   },
   "source": [
    "## PascalVOC SLIC"
   ]
  },
  {
   "cell_type": "code",
   "execution_count": 11,
   "metadata": {
    "collapsed": false,
    "deletable": true,
    "editable": true
   },
   "outputs": [
    {
     "name": "stdout",
     "output_type": "stream",
     "text": [
      "Number of nodes: 976\n",
      "Execution time: 0.37825s\n",
      "0. Segmentation: 0.24400s, 64.51%\n",
      "1. Adjacency generation: 0.01261s, 3.33%\n",
      "2. Coarsening: 0.03360s, 8.88%\n",
      "3. Feature extraction: 0.08699s, 23.00%\n",
      "4. Feature permutation: 0.00104s, 0.28%\n"
     ]
    },
    {
     "data": {
      "image/png": "[encoded data removed]",
      "text/plain": [
       "<matplotlib.figure.Figure at 0x11f9d4cf8>"
      ]
     },
     "metadata": {},
     "output_type": "display_data"
    }
   ],
   "source": [
    "slic = slic_fixed(num_segments=800, compactness=30, max_iterations=10, sigma=0)\n",
    "pipeline(pascal_voc, slic)"
   ]
  },
  {
   "cell_type": "markdown",
   "metadata": {
    "deletable": true,
    "editable": true
   },
   "source": [
    "## PascalVOC Quickshift"
   ]
  },
  {
   "cell_type": "code",
   "execution_count": 12,
   "metadata": {
    "collapsed": false,
    "deletable": true,
    "editable": true
   },
   "outputs": [
    {
     "name": "stdout",
     "output_type": "stream",
     "text": [
      "Number of nodes: 592\n",
      "Execution time: 1.52637s\n",
      "0. Segmentation: 1.39987s, 91.71%\n",
      "1. Adjacency generation: 0.01194s, 0.78%\n",
      "2. Coarsening: 0.02889s, 1.89%\n",
      "3. Feature extraction: 0.08561s, 5.61%\n",
      "4. Feature permutation: 0.00007s, 0.00%\n"
     ]
    },
    {
     "data": {
      "image/png": "[encoded data removed]",
      "text/plain": [
       "<matplotlib.figure.Figure at 0x11fa620f0>"
      ]
     },
     "metadata": {},
     "output_type": "display_data"
    }
   ],
   "source": [
    "quickshift = quickshift_fixed(ratio=1, kernel_size=3, max_dist=15, sigma=0)\n",
    "pipeline(pascal_voc, quickshift)"
   ]
  }
 ],
 "metadata": {
  "kernelspec": {
   "display_name": "Python 3",
   "language": "python",
   "name": "python3"
  }
 },
 "nbformat": 4,
 "nbformat_minor": 2
}

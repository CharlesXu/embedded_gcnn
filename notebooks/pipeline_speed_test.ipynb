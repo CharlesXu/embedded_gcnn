{
 "cells": [
  {
   "cell_type": "markdown",
   "metadata": {
    "deletable": true,
    "editable": true
   },
   "source": [
    "# Pipeline Speed Test"
   ]
  },
  {
   "cell_type": "code",
   "execution_count": 68,
   "metadata": {
    "collapsed": false,
    "deletable": true,
    "editable": true
   },
   "outputs": [],
   "source": [
    "import sys\n",
    "sys.path.insert(0, '..')\n",
    "import time\n",
    "\n",
    "import matplotlib.pyplot as plt\n",
    "\n",
    "%matplotlib inline"
   ]
  },
  {
   "cell_type": "code",
   "execution_count": 69,
   "metadata": {
    "collapsed": false,
    "deletable": true,
    "editable": true
   },
   "outputs": [],
   "source": [
    "from lib.segmentation import segmentation_adjacency, FormFeatureExtraction\n",
    "from lib.segmentation.feature_extraction import form_feature_extraction\n",
    "from lib.graph import coarsen_adj, perm_features\n",
    "\n",
    "def pipeline(image, segmentation_algorithm):\n",
    "    t_segmentation = time.process_time()\n",
    "    segmentation = segmentation_algorithm(image)\n",
    "    t_segmentation = time.process_time() - t_segmentation\n",
    "    \n",
    "    t_adjacency = time.process_time()\n",
    "    adj, points, mass = segmentation_adjacency(segmentation)\n",
    "    t_adjacency = time.process_time() - t_adjacency\n",
    "    \n",
    "    t_coarsen = time.process_time() \n",
    "    adjs_dist, adjs_rad, perm = coarsen_adj(adj, points, mass, levels=4)\n",
    "    t_coarsen = time.process_time() - t_coarsen\n",
    "    \n",
    "    t_features = time.process_time()\n",
    "    features = FormFeatureExtraction(segmentation).get_features()\n",
    "    t_features = time.process_time() - t_features\n",
    "    \n",
    "    t_perm = time.process_time()\n",
    "    features = perm_features(features, perm)\n",
    "    t_perm = time.process_time() - t_perm\n",
    "    \n",
    "    t_all = t_segmentation + t_adjacency + t_coarsen + t_features + t_perm\n",
    "    \n",
    "    p_segmentation = 100 * t_segmentation / t_all\n",
    "    p_adjacency = 100 * t_adjacency / t_all\n",
    "    p_coarsen = 100 * t_coarsen / t_all\n",
    "    p_features = 100 * t_features / t_all\n",
    "    p_perm = 100 * t_perm / t_all\n",
    "    \n",
    "    print('Number of nodes: {}'.format(features.shape[0]))\n",
    "    print('Execution time: {:.5f}s'.format(t_all))\n",
    "    print('0. Segmentation: {:.5f}s, {:.2f}%'.format(t_segmentation, p_segmentation))\n",
    "    print('1. Adjacency generation: {:.5f}s, {:.2f}%'.format(t_adjacency, p_adjacency))\n",
    "    print('2. Coarsening: {:.5f}s, {:.2f}%'.format(t_coarsen, p_coarsen))\n",
    "    print('3. Feature extraction: {:.5f}s, {:.2f}%'.format(t_features, p_features))\n",
    "    print('4. Feature permutation: {:.5f}s, {:.2f}%'.format(t_perm, p_perm))\n",
    "    \n",
    "    plt.bar(range(5), [p_segmentation, p_adjacency, p_coarsen, p_features, p_perm], color=\"black\")\n",
    "    plt.ylabel('Percentage')"
   ]
  },
  {
   "cell_type": "markdown",
   "metadata": {
    "deletable": true,
    "editable": true
   },
   "source": [
    "## Load Datasets"
   ]
  },
  {
   "cell_type": "code",
   "execution_count": 70,
   "metadata": {
    "collapsed": false,
    "deletable": true,
    "editable": true
   },
   "outputs": [
    {
     "name": "stdout",
     "output_type": "stream",
     "text": [
      "Extracting ../data/mnist/train-images-idx3-ubyte.gz\n",
      "Extracting ../data/mnist/train-labels-idx1-ubyte.gz\n",
      "Extracting ../data/mnist/t10k-images-idx3-ubyte.gz\n",
      "Extracting ../data/mnist/t10k-labels-idx1-ubyte.gz\n",
      ">> Reading ../test_data/VOCdevkit/VOC2012 100.00%\n"
     ]
    }
   ],
   "source": [
    "from lib.datasets import MNIST, Cifar10, PascalVOC\n",
    "\n",
    "mnist = MNIST('../data/mnist').test.next_batch(1, shuffle=False)[0][0]\n",
    "cifar_10 = Cifar10('../data/cifar_10').test.next_batch(2, shuffle=False)[0][1]\n",
    "pascal_voc = PascalVOC('../test_data').test.next_batch(3, shuffle=False)[0][2]"
   ]
  },
  {
   "cell_type": "code",
   "execution_count": 71,
   "metadata": {
    "collapsed": true,
    "deletable": true,
    "editable": true
   },
   "outputs": [],
   "source": [
    "from lib.segmentation import slic_fixed, quickshift_fixed"
   ]
  },
  {
   "cell_type": "markdown",
   "metadata": {
    "deletable": true,
    "editable": true
   },
   "source": [
    "## MNIST SLIC"
   ]
  },
  {
   "cell_type": "code",
   "execution_count": 72,
   "metadata": {
    "collapsed": false,
    "deletable": true,
    "editable": true
   },
   "outputs": [
    {
     "name": "stdout",
     "output_type": "stream",
     "text": [
      "Number of nodes: 80\n",
      "Execution time: 0.01604s\n",
      "0. Segmentation: 0.00430s, 26.79%\n",
      "1. Adjacency generation: 0.00057s, 3.52%\n",
      "2. Coarsening: 0.00940s, 58.62%\n",
      "3. Feature extraction: 0.00175s, 10.92%\n",
      "4. Feature permutation: 0.00002s, 0.14%\n"
     ]
    },
    {
     "data": {
      "image/png": "[encoded data removed]",
      "text/plain": [
       "<matplotlib.figure.Figure at 0x1212a84a8>"
      ]
     },
     "metadata": {},
     "output_type": "display_data"
    }
   ],
   "source": [
    "slic = slic_fixed(num_segments=100, compactness=5, max_iterations=10, sigma=0)\n",
    "pipeline(mnist, slic)"
   ]
  },
  {
   "cell_type": "markdown",
   "metadata": {
    "deletable": true,
    "editable": true
   },
   "source": [
    "## MNIST Quickshift"
   ]
  },
  {
   "cell_type": "code",
   "execution_count": 73,
   "metadata": {
    "collapsed": false,
    "deletable": true,
    "editable": true
   },
   "outputs": [
    {
     "name": "stdout",
     "output_type": "stream",
     "text": [
      "Number of nodes: 96\n",
      "Execution time: 0.02267s\n",
      "0. Segmentation: 0.01058s, 46.65%\n",
      "1. Adjacency generation: 0.00062s, 2.72%\n",
      "2. Coarsening: 0.00977s, 43.11%\n",
      "3. Feature extraction: 0.00168s, 7.42%\n",
      "4. Feature permutation: 0.00002s, 0.11%\n"
     ]
    },
    {
     "data": {
      "image/png": "[encoded data removed]",
      "text/plain": [
       "<matplotlib.figure.Figure at 0x11fe79b70>"
      ]
     },
     "metadata": {},
     "output_type": "display_data"
    }
   ],
   "source": [
    "quickshift = quickshift_fixed(ratio=1, kernel_size=2, max_dist=2, sigma=0)\n",
    "pipeline(mnist, quickshift)"
   ]
  },
  {
   "cell_type": "markdown",
   "metadata": {
    "collapsed": true,
    "deletable": true,
    "editable": true
   },
   "source": [
    "## Cifar10 SLIC"
   ]
  },
  {
   "cell_type": "code",
   "execution_count": 74,
   "metadata": {
    "collapsed": false,
    "deletable": true,
    "editable": true
   },
   "outputs": [
    {
     "name": "stdout",
     "output_type": "stream",
     "text": [
      "Number of nodes: 144\n",
      "Execution time: 0.01876s\n",
      "0. Segmentation: 0.00377s, 20.11%\n",
      "1. Adjacency generation: 0.00071s, 3.80%\n",
      "2. Coarsening: 0.01232s, 65.66%\n",
      "3. Feature extraction: 0.00193s, 10.29%\n",
      "4. Feature permutation: 0.00003s, 0.15%\n"
     ]
    },
    {
     "data": {
      "image/png": "[encoded data removed]",
      "text/plain": [
       "<matplotlib.figure.Figure at 0x1212a8358>"
      ]
     },
     "metadata": {},
     "output_type": "display_data"
    }
   ],
   "source": [
    "slic = slic_fixed(num_segments=150, compactness=5, max_iterations=10, sigma=0)\n",
    "pipeline(cifar_10, slic)"
   ]
  },
  {
   "cell_type": "markdown",
   "metadata": {
    "deletable": true,
    "editable": true
   },
   "source": [
    "## Cifar10 Quickshift"
   ]
  },
  {
   "cell_type": "code",
   "execution_count": 75,
   "metadata": {
    "collapsed": false,
    "deletable": true,
    "editable": true
   },
   "outputs": [
    {
     "name": "stdout",
     "output_type": "stream",
     "text": [
      "Number of nodes: 208\n",
      "Execution time: 0.02595s\n",
      "0. Segmentation: 0.00934s, 35.98%\n",
      "1. Adjacency generation: 0.00072s, 2.78%\n",
      "2. Coarsening: 0.01398s, 53.90%\n",
      "3. Feature extraction: 0.00187s, 7.22%\n",
      "4. Feature permutation: 0.00003s, 0.11%\n"
     ]
    },
    {
     "data": {
      "image/png": "[encoded data removed]",
      "text/plain": [
       "<matplotlib.figure.Figure at 0x11f9148d0>"
      ]
     },
     "metadata": {},
     "output_type": "display_data"
    }
   ],
   "source": [
    "quickshift = quickshift_fixed(ratio=1, kernel_size=1, max_dist=5, sigma=0)\n",
    "pipeline(cifar_10, quickshift)"
   ]
  },
  {
   "cell_type": "markdown",
   "metadata": {
    "deletable": true,
    "editable": true
   },
   "source": [
    "## PascalVOC SLIC"
   ]
  },
  {
   "cell_type": "code",
   "execution_count": 76,
   "metadata": {
    "collapsed": false,
    "deletable": true,
    "editable": true
   },
   "outputs": [
    {
     "name": "stdout",
     "output_type": "stream",
     "text": [
      "Number of nodes: 944\n",
      "Execution time: 0.35826s\n",
      "0. Segmentation: 0.22831s, 63.73%\n",
      "1. Adjacency generation: 0.01207s, 3.37%\n",
      "2. Coarsening: 0.03579s, 9.99%\n",
      "3. Feature extraction: 0.08126s, 22.68%\n",
      "4. Feature permutation: 0.00083s, 0.23%\n"
     ]
    },
    {
     "data": {
      "image/png": "[encoded data removed]",
      "text/plain": [
       "<matplotlib.figure.Figure at 0x11fbf10b8>"
      ]
     },
     "metadata": {},
     "output_type": "display_data"
    }
   ],
   "source": [
    "slic = slic_fixed(num_segments=800, compactness=30, max_iterations=10, sigma=0)\n",
    "pipeline(pascal_voc, slic)"
   ]
  },
  {
   "cell_type": "markdown",
   "metadata": {
    "deletable": true,
    "editable": true
   },
   "source": [
    "## PascalVOC Quickshift"
   ]
  },
  {
   "cell_type": "code",
   "execution_count": 77,
   "metadata": {
    "collapsed": false,
    "deletable": true,
    "editable": true
   },
   "outputs": [
    {
     "name": "stdout",
     "output_type": "stream",
     "text": [
      "Number of nodes: 560\n",
      "Execution time: 1.46164s\n",
      "0. Segmentation: 1.34259s, 91.85%\n",
      "1. Adjacency generation: 0.01104s, 0.76%\n",
      "2. Coarsening: 0.02882s, 1.97%\n",
      "3. Feature extraction: 0.07914s, 5.41%\n",
      "4. Feature permutation: 0.00006s, 0.00%\n"
     ]
    },
    {
     "data": {
      "image/png": "[encoded data removed]",
      "text/plain": [
       "<matplotlib.figure.Figure at 0x11fbc6160>"
      ]
     },
     "metadata": {},
     "output_type": "display_data"
    }
   ],
   "source": [
    "quickshift = quickshift_fixed(ratio=1, kernel_size=3, max_dist=15, sigma=0)\n",
    "pipeline(pascal_voc, quickshift)"
   ]
  }
 ],
 "metadata": {
  "kernelspec": {
   "display_name": "Python 3",
   "language": "python",
   "name": "python3"
  },
  "language_info": {
   "codemirror_mode": {
    "name": "ipython",
    "version": 3
   },
   "file_extension": ".py",
   "mimetype": "text/x-python",
   "name": "python",
   "nbconvert_exporter": "python",
   "pygments_lexer": "ipython3",
   "version": "3.6.0"
  }
 },
 "nbformat": 4,
 "nbformat_minor": 2
}

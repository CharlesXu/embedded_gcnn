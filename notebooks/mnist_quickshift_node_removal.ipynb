{
 "cells": [
  {
   "cell_type": "markdown",
   "metadata": {},
   "source": [
    "# MNIST Quickshift Node Removal"
   ]
  },
  {
   "cell_type": "code",
   "execution_count": 1,
   "metadata": {
    "collapsed": true
   },
   "outputs": [],
   "source": [
    "import sys, os\n",
    "sys.path.insert(0, '..')\n",
    "\n",
    "import matplotlib.pyplot as plt\n",
    "\n",
    "%matplotlib inline"
   ]
  },
  {
   "cell_type": "code",
   "execution_count": 2,
   "metadata": {
    "collapsed": true
   },
   "outputs": [],
   "source": [
    "import numpy as np\n",
    "from skimage import color, draw\n",
    "from skimage.future import graph\n",
    "\n",
    "def _scale(image, scale=8):\n",
    "    if scale == 1:\n",
    "        return image\n",
    "    else:\n",
    "        image = np.repeat(image, scale, axis=0)\n",
    "        image = np.repeat(image, scale, axis=1)\n",
    "        return image\n",
    "\n",
    "def draw_rag(image, segmentation):\n",
    "    image = color.gray2rgb(np.reshape(image, (28, 28)))\n",
    "    image = _scale(image)\n",
    "    segmentation = _scale(segmentation)\n",
    "    \n",
    "    rag = graph.rag_mean_color(image, segmentation)\n",
    "    graph.draw_rag(segmentation, rag, image)  # Calculate the centroids internally.\n",
    "    \n",
    "    out_1 = image.copy()\n",
    "    \n",
    "    for n1, n2, data in rag.edges_iter(data=True):\n",
    "        r1, c1 = map(int, rag.node[n1]['centroid'])\n",
    "        r2, c2 = map(int, rag.node[n2]['centroid'])\n",
    "        line = draw.line(r1, c1, r2, c2)\n",
    "        out_1[line] = [1, 0, 0]\n",
    "        \n",
    "    for n, d in rag.nodes_iter(data=True):\n",
    "        r, c = map(int, rag.node[n]['centroid'])\n",
    "        if r > 1 and c > 1 and r < image.shape[0] - 1 and c < image.shape[1] - 1:\n",
    "            circle = draw.circle(r, c, 2)\n",
    "            out_1[circle] = [0, 1, 0]\n",
    "            \n",
    "    out_2 = image.copy()\n",
    "    \n",
    "    for n1, n2, data in rag.edges_iter(data=True):\n",
    "        mean_1 = rag.node[n1]['mean color'][0]\n",
    "        mean_2 = rag.node[n2]['mean color'][0]\n",
    "        if mean_1 < 0.01 or mean_2 < 0.01:\n",
    "            continue\n",
    "        \n",
    "        r1, c1 = map(int, rag.node[n1]['centroid'])\n",
    "        r2, c2 = map(int, rag.node[n2]['centroid'])\n",
    "        line = draw.line(r1, c1, r2, c2)\n",
    "        out_2[line] = [1, 0, 0]\n",
    "        \n",
    "    for n, d in rag.nodes_iter(data=True):\n",
    "        mean = rag.node[n]['mean color'][0]\n",
    "        if mean < 0.01:\n",
    "            continue\n",
    "        \n",
    "        r, c = map(int, rag.node[n]['centroid'])\n",
    "        if r > 1 and c > 1 and r < image.shape[0] - 1 and c < image.shape[1] - 1:\n",
    "            circle = draw.circle(r, c, 2)\n",
    "            out_2[circle] = [0, 1, 0]\n",
    "     \n",
    "    plt.rcParams['figure.figsize'] = (10, 5)\n",
    "    fig = plt.figure()\n",
    "    fig.add_subplot(121)\n",
    "    plt.xticks([])\n",
    "    plt.yticks([])\n",
    "    plt.imshow(out_1)\n",
    "    fig.add_subplot(122)\n",
    "    plt.xticks([])\n",
    "    plt.yticks([])\n",
    "    plt.imshow(out_2)\n",
    "    \n",
    "    plt.show()"
   ]
  },
  {
   "cell_type": "markdown",
   "metadata": {},
   "source": [
    "## Load dataset"
   ]
  },
  {
   "cell_type": "code",
   "execution_count": 3,
   "metadata": {
    "collapsed": false
   },
   "outputs": [
    {
     "name": "stdout",
     "output_type": "stream",
     "text": [
      "Extracting ../data/mnist/train-images-idx3-ubyte.gz\n",
      "Extracting ../data/mnist/train-labels-idx1-ubyte.gz\n",
      "Extracting ../data/mnist/t10k-images-idx3-ubyte.gz\n",
      "Extracting ../data/mnist/t10k-labels-idx1-ubyte.gz\n"
     ]
    }
   ],
   "source": [
    "from lib.datasets import MNIST\n",
    "\n",
    "mnist = MNIST('../data/mnist').test\n",
    "images, _ = mnist.next_batch(3, shuffle=False)\n",
    "\n",
    "image_1 = images[0]\n",
    "image_2 = images[1]\n",
    "image_3 = images[2]"
   ]
  },
  {
   "cell_type": "code",
   "execution_count": 4,
   "metadata": {
    "collapsed": true
   },
   "outputs": [],
   "source": [
    "from lib.segmentation import quickshift"
   ]
  },
  {
   "cell_type": "code",
   "execution_count": 5,
   "metadata": {
    "collapsed": false
   },
   "outputs": [
    {
     "data": {
      "image/png": "[encoded data removed]",
      "text/plain": [
       "<matplotlib.figure.Figure at 0x119c86518>"
      ]
     },
     "metadata": {},
     "output_type": "display_data"
    }
   ],
   "source": [
    "image = images[0]\n",
    "segmentation = quickshift(image, ratio=1, kernel_size=2, max_dist=2, sigma=0)\n",
    "draw_rag(image, segmentation)"
   ]
  },
  {
   "cell_type": "code",
   "execution_count": 6,
   "metadata": {
    "collapsed": false
   },
   "outputs": [
    {
     "data": {
      "image/png": "[encoded data removed]",
      "text/plain": [
       "<matplotlib.figure.Figure at 0x11a00c320>"
      ]
     },
     "metadata": {},
     "output_type": "display_data"
    }
   ],
   "source": [
    "image = images[1]\n",
    "segmentation = quickshift(image, ratio=1, kernel_size=2, max_dist=2, sigma=0)\n",
    "draw_rag(image, segmentation)"
   ]
  },
  {
   "cell_type": "code",
   "execution_count": 7,
   "metadata": {
    "collapsed": false
   },
   "outputs": [
    {
     "data": {
      "image/png": "[encoded data removed]",
      "text/plain": [
       "<matplotlib.figure.Figure at 0x11a027a90>"
      ]
     },
     "metadata": {},
     "output_type": "display_data"
    }
   ],
   "source": [
    "image = images[2]\n",
    "segmentation = quickshift(image, ratio=1, kernel_size=2, max_dist=2, sigma=0)\n",
    "draw_rag(image, segmentation)"
   ]
  },
  {
   "cell_type": "markdown",
   "metadata": {},
   "source": [
    "## Validate different node removal algorithms\n",
    "\n",
    "**Important:** The graph should still be fully-connected after node removal."
   ]
  },
  {
   "cell_type": "code",
   "execution_count": 8,
   "metadata": {
    "collapsed": false
   },
   "outputs": [],
   "source": [
    "import scipy.sparse as sp\n",
    "\n",
    "from lib.graph import filter_adj\n",
    "from lib.segmentation import segmentation_adjacency, extract_features\n",
    "\n",
    "def _validate_adj(adj):\n",
    "    adj.data = adj.data.astype(np.float32)\n",
    "    lap = sp.csgraph.laplacian(adj, normed=True)\n",
    "    \n",
    "    # Check that lambda_1 > 0, so that adj is connected.\n",
    "    lambdas, _ = np.linalg.eig(lap.toarray())\n",
    "    lambdas = np.sort(lambdas)\n",
    "    lambda_1 = lambdas[1]\n",
    "    lambda_1 = round(lambda_1, 8)\n",
    "    return lambda_1 > 0\n",
    "\n",
    "def node_removal(images, algorithm):\n",
    "    valids = []\n",
    "    removed = []\n",
    "    \n",
    "    for image in images:\n",
    "        segmentation = quickshift(image, ratio=1, kernel_size=2, max_dist=2, sigma=0)\n",
    "        adj, _, _ = segmentation_adjacency(segmentation)\n",
    "        features = extract_features(segmentation, image, [0])\n",
    "        nodes = algorithm(adj, features)\n",
    "        adj_new = filter_adj(adj, nodes)\n",
    "        valid = _validate_adj(adj_new)\n",
    "        \n",
    "        removed.append(adj.shape[0] - adj_new.shape[0])\n",
    "        valids.append(valid)\n",
    "    \n",
    "    valids = np.array(valids, dtype=np.uint8)\n",
    "    valid = valids.mean()\n",
    "    print('Valid adjacencies: {:.2f}%'.format(valid * 100))\n",
    "    removed = np.array(removed, dtype=np.float32)\n",
    "    removed = removed.mean()\n",
    "    print('Mean nodes removed: {:.2f}'.format(removed))"
   ]
  },
  {
   "cell_type": "code",
   "execution_count": 9,
   "metadata": {
    "collapsed": true
   },
   "outputs": [],
   "source": [
    "images, _ = mnist.next_batch(1000, shuffle=False)"
   ]
  },
  {
   "cell_type": "markdown",
   "metadata": {},
   "source": [
    "### Color threshold"
   ]
  },
  {
   "cell_type": "code",
   "execution_count": 10,
   "metadata": {
    "collapsed": false
   },
   "outputs": [
    {
     "name": "stdout",
     "output_type": "stream",
     "text": [
      "Valid adjacencies: 99.90%\n",
      "Mean nodes removed: 4.97\n"
     ]
    }
   ],
   "source": [
    "from lib.graph import gray_color_threshold_fixed\n",
    "\n",
    "gray_color_threshold = gray_color_threshold_fixed(0.01)\n",
    "node_removal(images, gray_color_threshold)"
   ]
  },
  {
   "cell_type": "markdown",
   "metadata": {},
   "source": [
    "### Degree threshold"
   ]
  },
  {
   "cell_type": "code",
   "execution_count": 11,
   "metadata": {
    "collapsed": false
   },
   "outputs": [
    {
     "name": "stdout",
     "output_type": "stream",
     "text": [
      "Valid adjacencies: 45.70%\n",
      "Mean nodes removed: 3.19\n"
     ]
    }
   ],
   "source": [
    "from lib.graph import degree_threshold_fixed\n",
    "\n",
    "degree_threshold = degree_threshold_fixed(15)\n",
    "node_removal(images, degree_threshold)"
   ]
  }
 ],
 "metadata": {
  "kernelspec": {
   "display_name": "Python 3",
   "language": "python",
   "name": "python3"
  },
  "language_info": {
   "codemirror_mode": {
    "name": "ipython",
    "version": 3
   },
   "file_extension": ".py",
   "mimetype": "text/x-python",
   "name": "python",
   "nbconvert_exporter": "python",
   "pygments_lexer": "ipython3",
   "version": "3.6.0"
  }
 },
 "nbformat": 4,
 "nbformat_minor": 2
}

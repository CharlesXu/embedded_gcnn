{
 "cells": [
  {
   "cell_type": "markdown",
   "metadata": {
    "deletable": true,
    "editable": true
   },
   "source": [
    "# Speed Comparison"
   ]
  },
  {
   "cell_type": "code",
   "execution_count": 185,
   "metadata": {
    "collapsed": true,
    "deletable": true,
    "editable": true
   },
   "outputs": [],
   "source": [
    "import sys\n",
    "sys.path.insert(0, '..')\n",
    "import time\n",
    "\n",
    "import matplotlib.pyplot as plt\n",
    "\n",
    "%matplotlib inline"
   ]
  },
  {
   "cell_type": "code",
   "execution_count": 186,
   "metadata": {
    "collapsed": true,
    "deletable": true,
    "editable": true
   },
   "outputs": [],
   "source": [
    "def plot_durations(t_current, t_other):\n",
    "    \n",
    "    print('Currently used version: {:.5f}s'.format(t_current))\n",
    "    print('Version of other package: {:.5f}s'.format(t_other))\n",
    "    print('=> {:.2f}%'.format(100 * (t_other - t_current) / t_current), 'better performance')\n",
    "    \n",
    "    plt.bar(range(2), [t_current, t_other], color=\"black\", tick_label=['Currently used', 'Other package'])\n",
    "    plt.ylabel('Duration in seconds')"
   ]
  },
  {
   "cell_type": "code",
   "execution_count": 187,
   "metadata": {
    "collapsed": false,
    "deletable": true,
    "editable": true
   },
   "outputs": [
    {
     "name": "stdout",
     "output_type": "stream",
     "text": [
      ">> Reading ../test_data/VOCdevkit/VOC2012 100.00%\n"
     ]
    }
   ],
   "source": [
    "from lib.datasets import PascalVOC\n",
    "from lib.segmentation import slic\n",
    "\n",
    "image = PascalVOC('../test_data').test.next_batch(3, shuffle=False)[0][2]\n",
    "segmentation = slic(image, num_segments=800, compactness=30, max_iterations=10, sigma=0)"
   ]
  },
  {
   "cell_type": "markdown",
   "metadata": {
    "deletable": true,
    "editable": true
   },
   "source": [
    "## Adjacency generation\n",
    "\n",
    "Speed comparison of the adjacency generation out of a segmentation between the currently used version and the version in [`skimage`](http://scikit-image.org/docs/dev/api/skimage.future.graph.html#skimage.future.graph.RAG)."
   ]
  },
  {
   "cell_type": "code",
   "execution_count": 188,
   "metadata": {
    "collapsed": false,
    "deletable": true,
    "editable": true
   },
   "outputs": [
    {
     "name": "stdout",
     "output_type": "stream",
     "text": [
      "Currently used version: 0.01447s\n",
      "Version of other package: 0.92811s\n",
      "=> 6315.35% better performance\n"
     ]
    },
    {
     "data": {
      "image/png": "[encoded data removed]",
      "text/plain": [
       "<matplotlib.figure.Figure at 0x11c6167b8>"
      ]
     },
     "metadata": {},
     "output_type": "display_data"
    }
   ],
   "source": [
    "from lib.segmentation import segmentation_adjacency\n",
    "from skimage.future.graph import RAG\n",
    "\n",
    "t_current = time.process_time()\n",
    "segmentation_adjacency(segmentation)\n",
    "t_current = time.process_time() - t_current\n",
    "\n",
    "t_other = time.process_time()\n",
    "RAG(segmentation)\n",
    "t_other = time.process_time() - t_other\n",
    "\n",
    "plot_durations(t_current, t_other)"
   ]
  },
  {
   "cell_type": "markdown",
   "metadata": {
    "deletable": true,
    "editable": true
   },
   "source": [
    "## Form Feature Extraction\n",
    "\n",
    "Speed comparison of the feature extraction of segments between the currently used version and the version in [`skimage`](http://scikit-image.org/docs/dev/api/skimage.measure.html#skimage.measure.regionprops)."
   ]
  },
  {
   "cell_type": "code",
   "execution_count": 189,
   "metadata": {
    "collapsed": false,
    "deletable": true,
    "editable": true
   },
   "outputs": [
    {
     "name": "stdout",
     "output_type": "stream",
     "text": [
      "Currently used version: 0.08956s\n",
      "Version of other package: 0.13855s\n",
      "=> 54.70% better performance\n"
     ]
    },
    {
     "data": {
      "image/png": "[encoded data removed]",
      "text/plain": [
       "<matplotlib.figure.Figure at 0x111c3a128>"
      ]
     },
     "metadata": {},
     "output_type": "display_data"
    }
   ],
   "source": [
    "from lib.segmentation import FormFeatureExtraction\n",
    "from skimage.measure import regionprops\n",
    "\n",
    "t_current = time.process_time()\n",
    "FormFeatureExtraction(segmentation).get_features()\n",
    "t_current = time.process_time() - t_current\n",
    "\n",
    "t_other = time.process_time()\n",
    "props = regionprops(segmentation + 1)\n",
    "features = []\n",
    "for prop in props:\n",
    "    prop['area']\n",
    "    prop['bbox']\n",
    "    prop['local_centroid']\n",
    "    prop['eccentricity']\n",
    "    prop['equivalent_diameter']\n",
    "    prop['extent']\n",
    "    prop['moments_hu']\n",
    "    prop['inertia_tensor']\n",
    "    prop['inertia_tensor_eigvals']\n",
    "    prop['major_axis_length']\n",
    "    prop['minor_axis_length']\n",
    "    prop['moments_central']\n",
    "    prop['moments_normalized']\n",
    "t_other = time.process_time() - t_other\n",
    "\n",
    "plot_durations(t_current, t_other)"
   ]
  },
  {
   "cell_type": "markdown",
   "metadata": {
    "deletable": true,
    "editable": true
   },
   "source": [
    "## Coarsening"
   ]
  },
  {
   "cell_type": "markdown",
   "metadata": {
    "deletable": true,
    "editable": true
   },
   "source": [
    "Speed comparison of the coarsening algorithm between the currently used version and the version used in [`cnn_graph`](https://github.com/mdeff/cnn_graph)."
   ]
  },
  {
   "cell_type": "code",
   "execution_count": 190,
   "metadata": {
    "collapsed": false,
    "deletable": true,
    "editable": true
   },
   "outputs": [
    {
     "name": "stdout",
     "output_type": "stream",
     "text": [
      "Currently used version: 0.03556s\n",
      "Version of other package: 0.08212s\n",
      "=> 130.96% better performance\n"
     ]
    },
    {
     "data": {
      "image/png": "[encoded data removed]",
      "text/plain": [
       "<matplotlib.figure.Figure at 0x11140a630>"
      ]
     },
     "metadata": {},
     "output_type": "display_data"
    }
   ],
   "source": [
    "from lib.segmentation import segmentation_adjacency\n",
    "from lib.graph import coarsen_adj\n",
    "\n",
    "import os\n",
    "import imp\n",
    "import requests\n",
    "\n",
    "def import_cdn(uri):\n",
    "    name = os.path.basename(uri).lower().rstrip('.py')\n",
    "\n",
    "    r = requests.get(uri)\n",
    "    r.raise_for_status()\n",
    "\n",
    "    codeobj = compile(r.content, uri, 'exec')\n",
    "    module = imp.new_module(name)\n",
    "    exec (codeobj, module.__dict__)\n",
    "    return module\n",
    "\n",
    "# Load the cnn_graph coarsen script.\n",
    "cnn_graph = import_cdn('https://raw.githubusercontent.com/mdeff/cnn_graph/master/lib/coarsening.py')\n",
    "\n",
    "adj, points, mass = segmentation_adjacency(segmentation)\n",
    "\n",
    "t_current = time.process_time()\n",
    "coarsen_adj(adj, points, mass, levels=4)\n",
    "t_current = time.process_time() - t_current\n",
    "\n",
    "# Run the coarsen script without slow prints.\n",
    "t_other = time.process_time()\n",
    "graphs, parents = cnn_graph.metis(adj, levels=4)\n",
    "perms = cnn_graph.compute_perm(parents)\n",
    "\n",
    "for i, A in enumerate(graphs):\n",
    "    M, M = A.shape\n",
    "\n",
    "    A = A.tocoo()\n",
    "    A.setdiag(0)\n",
    "\n",
    "    if i < 4:\n",
    "        A = cnn_graph.perm_adjacency(A, perms[i])\n",
    "\n",
    "    A = A.tocsr()\n",
    "    A.eliminate_zeros()\n",
    "    graphs[i] = A\n",
    "t_other = time.process_time() - t_other\n",
    "\n",
    "plot_durations(t_current, t_other)"
   ]
  }
 ],
 "metadata": {
  "kernelspec": {
   "display_name": "Python 3",
   "language": "python",
   "name": "python3"
  },
  "language_info": {
   "codemirror_mode": {
    "name": "ipython",
    "version": 3
   },
   "file_extension": ".py",
   "mimetype": "text/x-python",
   "name": "python",
   "nbconvert_exporter": "python",
   "pygments_lexer": "ipython3",
   "version": "3.6.0"
  }
 },
 "nbformat": 4,
 "nbformat_minor": 2
}

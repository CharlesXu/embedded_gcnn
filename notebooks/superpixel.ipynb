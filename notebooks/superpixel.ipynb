{
 "cells": [
  {
   "cell_type": "code",
   "execution_count": 1,
   "metadata": {
    "collapsed": false,
    "deletable": true,
    "editable": true
   },
   "outputs": [],
   "source": [
    "import sys, os\n",
    "sys.path.insert(0, '..')\n",
    "import time\n",
    "\n",
    "import numpy as np\n",
    "import matplotlib.pyplot as plt\n",
    "import scipy.misc as sm\n",
    "from skimage import color, segmentation\n",
    "from skimage.future import graph\n",
    "\n",
    "from lib.segmentation.algorithm import slic, quickshift, felzenszwalb\n",
    "from lib.dataset.mnist import MNIST\n",
    "\n",
    "%matplotlib inline\n",
    "\n",
    "def scale(image):\n",
    "    image = np.repeat(image, 8, axis=0)\n",
    "    image = np.repeat(image, 8, axis=1)\n",
    "    return image"
   ]
  },
  {
   "cell_type": "markdown",
   "metadata": {
    "deletable": true,
    "editable": true
   },
   "source": [
    "# MNIST\n",
    "Load a single image from the MNIST test dataset."
   ]
  },
  {
   "cell_type": "code",
   "execution_count": 2,
   "metadata": {
    "collapsed": false,
    "deletable": true,
    "editable": true,
    "scrolled": true
   },
   "outputs": [
    {
     "name": "stdout",
     "output_type": "stream",
     "text": [
      "Extracting /tmp/mnist/train-images-idx3-ubyte.gz\n",
      "Extracting /tmp/mnist/train-labels-idx1-ubyte.gz\n",
      "Extracting /tmp/mnist/t10k-images-idx3-ubyte.gz\n",
      "Extracting /tmp/mnist/t10k-labels-idx1-ubyte.gz\n",
      "Label: 7\n"
     ]
    },
    {
     "data": {
      "image/png": "[encoded data removed]",
      "text/plain": [
       "<matplotlib.figure.Figure at 0x1049ecf28>"
      ]
     },
     "metadata": {},
     "output_type": "display_data"
    }
   ],
   "source": [
    "mnist = MNIST(data_dir='/tmp/mnist')\n",
    "image, label = mnist.next_test_batch(1)\n",
    "image = np.reshape(image, (28, 28))\n",
    "image = color.gray2rgb(image)\n",
    "print('Label:', label[0])\n",
    "plt.imshow(image)\n",
    "scaled_image = scale(image)"
   ]
  },
  {
   "cell_type": "markdown",
   "metadata": {
    "collapsed": true,
    "deletable": true,
    "editable": true
   },
   "source": [
    "## SLIC\n",
    "Segment image using k-means clustering in Color-(x,y,z) space."
   ]
  },
  {
   "cell_type": "code",
   "execution_count": 3,
   "metadata": {
    "collapsed": false,
    "deletable": true,
    "editable": true,
    "scrolled": false
   },
   "outputs": [
    {
     "name": "stdout",
     "output_type": "stream",
     "text": [
      "Execution time: 0.00453s\n",
      "Number of segments: 68\n"
     ]
    }
   ],
   "source": [
    "# The (approximate) number of labels in the segmented output image.\n",
    "NUM_SEGMENTS = 100\n",
    "# Balances color proximity and space proximity. Higher values give more weight to space proximity,\n",
    "# making superpixel shapes more square. In SLICO mode, this is the initial compactness.\n",
    "# This parameter depends strongly on image contrast and on the shapes of objects in the image.\n",
    "COMPACTNESS = 10.0\n",
    "# Maximum number of iterations of k-means.\n",
    "MAX_ITERATIONS = 10\n",
    "# Width of gaussian smoothing kernel for preprocessing for each dimension of the image.\n",
    "# The same sigma is applied to each dimension in case of a scalar value. Zero means no\n",
    "# smoothing.\n",
    "SIGMA = 0.0\n",
    "\n",
    "t_start = time.process_time()\n",
    "slic = slic(image, NUM_SEGMENTS, COMPACTNESS, MAX_ITERATIONS, SIGMA)\n",
    "\n",
    "print('Execution time: {:.5f}s'.format(time.process_time() - t_start))\n",
    "print('Number of segments:', np.unique(slic).shape[0])"
   ]
  },
  {
   "cell_type": "code",
   "execution_count": 4,
   "metadata": {
    "collapsed": false,
    "deletable": true,
    "editable": true
   },
   "outputs": [
    {
     "data": {
      "text/plain": [
       "<matplotlib.image.AxesImage at 0x10c243dd8>"
      ]
     },
     "execution_count": 4,
     "metadata": {},
     "output_type": "execute_result"
    },
    {
     "data": {
      "image/png": "[encoded data removed]",
      "text/plain": [
       "<matplotlib.figure.Figure at 0x104a722e8>"
      ]
     },
     "metadata": {},
     "output_type": "display_data"
    }
   ],
   "source": [
    "plt.imshow(slic)"
   ]
  },
  {
   "cell_type": "code",
   "execution_count": 5,
   "metadata": {
    "collapsed": false,
    "deletable": true,
    "editable": true
   },
   "outputs": [
    {
     "data": {
      "text/plain": [
       "<matplotlib.image.AxesImage at 0x11ba84e80>"
      ]
     },
     "execution_count": 5,
     "metadata": {},
     "output_type": "execute_result"
    },
    {
     "data": {
      "image/png": "[encoded data removed]",
      "text/plain": [
       "<matplotlib.figure.Figure at 0x1049ec6d8>"
      ]
     },
     "metadata": {},
     "output_type": "display_data"
    }
   ],
   "source": [
    "scaled_labels = scale(slic)\n",
    "boundaries = segmentation.mark_boundaries(scaled_image, scaled_labels, color=(1, 0, 0))\n",
    "plt.imshow(boundaries)"
   ]
  },
  {
   "cell_type": "code",
   "execution_count": 6,
   "metadata": {
    "collapsed": false,
    "deletable": true,
    "editable": true
   },
   "outputs": [
    {
     "data": {
      "text/plain": [
       "<matplotlib.image.AxesImage at 0x11bfad9e8>"
      ]
     },
     "execution_count": 6,
     "metadata": {},
     "output_type": "execute_result"
    },
    {
     "data": {
      "image/png": "[encoded data removed]",
      "text/plain": [
       "<matplotlib.figure.Figure at 0x10c269438>"
      ]
     },
     "metadata": {},
     "output_type": "display_data"
    }
   ],
   "source": [
    "rag = graph.rag_mean_color(scaled_image, scaled_labels)\n",
    "out = graph.draw_rag(scaled_labels, rag, scaled_image, )\n",
    "plt.imshow(out)"
   ]
  },
  {
   "cell_type": "markdown",
   "metadata": {
    "deletable": true,
    "editable": true
   },
   "source": [
    "## Quickshift\n",
    "Segment image using quickshift clustering in Color-(x,y) space."
   ]
  },
  {
   "cell_type": "code",
   "execution_count": 7,
   "metadata": {
    "collapsed": false,
    "deletable": true,
    "editable": true
   },
   "outputs": [
    {
     "name": "stdout",
     "output_type": "stream",
     "text": [
      "Execution time: 0.01500s\n",
      "Number of segments: 93\n"
     ]
    }
   ],
   "source": [
    "# Balances color-space proximity and image-space proximity. Higher values give more weight to color-space.\n",
    "RATIO = 5\n",
    "# Width of Gaussian kernel used in smoothing the sample density. Higher means fewer clusters.\n",
    "KERNEL_SIZE = 5\n",
    "# Cut-off point for data distances. Higher means fewer clusters.\n",
    "MAX_DIST = 1\n",
    "# Width for Gaussian smoothing as preprocessing. Zero means no smoothing.\n",
    "SIGMA = 0\n",
    "\n",
    "t_start = time.process_time()\n",
    "quickshift = quickshift(image, RATIO, KERNEL_SIZE, MAX_DIST, SIGMA)\n",
    "\n",
    "print('Execution time: {:.5f}s'.format(time.process_time() - t_start))\n",
    "print('Number of segments:', np.unique(quickshift).shape[0])"
   ]
  },
  {
   "cell_type": "code",
   "execution_count": 8,
   "metadata": {
    "collapsed": false,
    "deletable": true,
    "editable": true
   },
   "outputs": [
    {
     "data": {
      "text/plain": [
       "<matplotlib.image.AxesImage at 0x11c327cc0>"
      ]
     },
     "execution_count": 8,
     "metadata": {},
     "output_type": "execute_result"
    },
    {
     "data": {
      "image/png": "[encoded data removed]",
      "text/plain": [
       "<matplotlib.figure.Figure at 0x11bfd76d8>"
      ]
     },
     "metadata": {},
     "output_type": "display_data"
    }
   ],
   "source": [
    "plt.imshow(quickshift)"
   ]
  },
  {
   "cell_type": "code",
   "execution_count": 9,
   "metadata": {
    "collapsed": false,
    "deletable": true,
    "editable": true
   },
   "outputs": [
    {
     "data": {
      "text/plain": [
       "<matplotlib.image.AxesImage at 0x11c451860>"
      ]
     },
     "execution_count": 9,
     "metadata": {},
     "output_type": "execute_result"
    },
    {
     "data": {
      "image/png": "[encoded data removed]",
      "text/plain": [
       "<matplotlib.figure.Figure at 0x11c339cf8>"
      ]
     },
     "metadata": {},
     "output_type": "display_data"
    }
   ],
   "source": [
    "scaled_labels = scale(quickshift)\n",
    "boundaries = segmentation.mark_boundaries(scaled_image, scaled_labels, color=(1, 0, 0))\n",
    "plt.imshow(boundaries)"
   ]
  },
  {
   "cell_type": "code",
   "execution_count": 10,
   "metadata": {
    "collapsed": false,
    "deletable": true,
    "editable": true
   },
   "outputs": [
    {
     "data": {
      "text/plain": [
       "<matplotlib.image.AxesImage at 0x11c6676a0>"
      ]
     },
     "execution_count": 10,
     "metadata": {},
     "output_type": "execute_result"
    },
    {
     "data": {
      "image/png": "[encoded data removed]",
      "text/plain": [
       "<matplotlib.figure.Figure at 0x11c5e27b8>"
      ]
     },
     "metadata": {},
     "output_type": "display_data"
    }
   ],
   "source": [
    "rag = graph.rag_mean_color(scaled_image, scaled_labels)\n",
    "out = graph.draw_rag(scaled_labels, rag, scaled_image)\n",
    "plt.imshow(out)"
   ]
  },
  {
   "cell_type": "markdown",
   "metadata": {
    "deletable": true,
    "editable": true
   },
   "source": [
    "## Felzenszwalb\n",
    "Compute Felsenszwalb’s efficient graph based image segmentation."
   ]
  },
  {
   "cell_type": "code",
   "execution_count": 11,
   "metadata": {
    "collapsed": false,
    "deletable": true,
    "editable": true
   },
   "outputs": [
    {
     "name": "stdout",
     "output_type": "stream",
     "text": [
      "Execution time: 0.00610s\n",
      "Number of segments: 21\n"
     ]
    }
   ],
   "source": [
    "# Higher means larger clusters.\n",
    "SCALE = 50\n",
    "# Minimum component size. Enforced using postprocessing.\n",
    "MIN_SIZE = 1\n",
    "# Width of Gaussian kernel used in preprocessing.\n",
    "SIGMA = 0\n",
    "\n",
    "t_start = time.process_time()\n",
    "felzenszwalb = segmentation.felzenszwalb(image, SCALE, MIN_SIZE, SIGMA)\n",
    "\n",
    "print('Execution time: {:.5f}s'.format(time.process_time() - t_start))\n",
    "print('Number of segments:', np.unique(felzenszwalb).shape[0])"
   ]
  },
  {
   "cell_type": "code",
   "execution_count": 12,
   "metadata": {
    "collapsed": false,
    "deletable": true,
    "editable": true
   },
   "outputs": [
    {
     "data": {
      "text/plain": [
       "<matplotlib.image.AxesImage at 0x11c872160>"
      ]
     },
     "execution_count": 12,
     "metadata": {},
     "output_type": "execute_result"
    },
    {
     "data": {
      "image/png": "[encoded data removed]",
      "text/plain": [
       "<matplotlib.figure.Figure at 0x11c35c4e0>"
      ]
     },
     "metadata": {},
     "output_type": "display_data"
    }
   ],
   "source": [
    "plt.imshow(felzenszwalb)"
   ]
  },
  {
   "cell_type": "code",
   "execution_count": 13,
   "metadata": {
    "collapsed": false,
    "deletable": true,
    "editable": true,
    "scrolled": true
   },
   "outputs": [
    {
     "data": {
      "text/plain": [
       "<matplotlib.image.AxesImage at 0x10c026748>"
      ]
     },
     "execution_count": 13,
     "metadata": {},
     "output_type": "execute_result"
    },
    {
     "data": {
      "image/png": "[encoded data removed]",
      "text/plain": [
       "<matplotlib.figure.Figure at 0x11c8369e8>"
      ]
     },
     "metadata": {},
     "output_type": "display_data"
    }
   ],
   "source": [
    "scaled_labels = scale(felzenszwalb)\n",
    "boundaries = segmentation.mark_boundaries(scaled_image, scaled_labels, color=(1, 0, 0))\n",
    "plt.imshow(boundaries)"
   ]
  },
  {
   "cell_type": "code",
   "execution_count": 14,
   "metadata": {
    "collapsed": false,
    "deletable": true,
    "editable": true
   },
   "outputs": [
    {
     "data": {
      "text/plain": [
       "<matplotlib.image.AxesImage at 0x115e529b0>"
      ]
     },
     "execution_count": 14,
     "metadata": {},
     "output_type": "execute_result"
    },
    {
     "data": {
      "image/png": "[encoded data removed]",
      "text/plain": [
       "<matplotlib.figure.Figure at 0x11bfdcd30>"
      ]
     },
     "metadata": {},
     "output_type": "display_data"
    }
   ],
   "source": [
    "rag = graph.rag_mean_color(scaled_image, scaled_labels)\n",
    "out = graph.draw_rag(scaled_labels, rag, scaled_image)\n",
    "plt.imshow(out)"
   ]
  }
 ],
 "metadata": {
  "kernelspec": {
   "display_name": "Python 3",
   "language": "python",
   "name": "python3"
  },
  "language_info": {
   "codemirror_mode": {
    "name": "ipython",
    "version": 3
   },
   "file_extension": ".py",
   "mimetype": "text/x-python",
   "name": "python",
   "nbconvert_exporter": "python",
   "pygments_lexer": "ipython3",
   "version": "3.6.0"
  }
 },
 "nbformat": 4,
 "nbformat_minor": 2
}

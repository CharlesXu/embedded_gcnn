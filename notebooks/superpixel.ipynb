{
 "cells": [
  {
   "cell_type": "code",
   "execution_count": 1,
   "metadata": {
    "collapsed": false,
    "deletable": true,
    "editable": true
   },
   "outputs": [],
   "source": [
    "import time\n",
    "\n",
    "import numpy as np\n",
    "import matplotlib.pyplot as plt\n",
    "from skimage import color, transform, segmentation\n",
    "import scipy.misc as sm\n",
    "from skimage.future import graph\n",
    "from tensorflow.examples.tutorials.mnist import input_data\n",
    "\n",
    "%matplotlib inline\n",
    "\n",
    "def scale(image):\n",
    "    image = np.repeat(image, 8, axis=0)\n",
    "    image = np.repeat(image, 8, axis=1)\n",
    "    return image"
   ]
  },
  {
   "cell_type": "markdown",
   "metadata": {
    "deletable": true,
    "editable": true
   },
   "source": [
    "# MNIST\n",
    "Load a single image from the MNIST test dataset."
   ]
  },
  {
   "cell_type": "code",
   "execution_count": 2,
   "metadata": {
    "collapsed": false,
    "deletable": true,
    "editable": true,
    "scrolled": true
   },
   "outputs": [
    {
     "name": "stdout",
     "output_type": "stream",
     "text": [
      "Extracting /tmp/mnist/train-images-idx3-ubyte.gz\n",
      "Extracting /tmp/mnist/train-labels-idx1-ubyte.gz\n",
      "Extracting /tmp/mnist/t10k-images-idx3-ubyte.gz\n",
      "Extracting /tmp/mnist/t10k-labels-idx1-ubyte.gz\n"
     ]
    },
    {
     "data": {
      "image/png": "[encoded data removed]",
      "text/plain": [
       "<matplotlib.figure.Figure at 0x10d47b780>"
      ]
     },
     "metadata": {},
     "output_type": "display_data"
    }
   ],
   "source": [
    "mnist = input_data.read_data_sets('/tmp/mnist')\n",
    "image = mnist.test.images[0]\n",
    "image = np.reshape(image, (28, 28))\n",
    "image = color.gray2rgb(image)\n",
    "plt.imshow(image)\n",
    "scaled_image = scale(image)"
   ]
  },
  {
   "cell_type": "markdown",
   "metadata": {
    "deletable": true,
    "editable": true
   },
   "source": [
    "Rescale image to 112 * 112 for better visualization."
   ]
  },
  {
   "cell_type": "markdown",
   "metadata": {
    "collapsed": true,
    "deletable": true,
    "editable": true
   },
   "source": [
    "## SLIC\n",
    "Segment image using k-means clustering in Color-(x,y,z) space."
   ]
  },
  {
   "cell_type": "code",
   "execution_count": 3,
   "metadata": {
    "collapsed": false,
    "deletable": true,
    "editable": true,
    "scrolled": false
   },
   "outputs": [
    {
     "name": "stdout",
     "output_type": "stream",
     "text": [
      "Execution time: 0.00457s\n",
      "Number of segments: 68\n"
     ]
    }
   ],
   "source": [
    "# The (approximate) number of labels in the segmented output image.\n",
    "N_SEGMENTS = 100\n",
    "# Balances color proximity and space proximity. Higher values give more weight to space proximity,\n",
    "# making superpixel shapes more square/cubic. In SLICO mode, this is the initial compactness.\n",
    "# This parameter depends strongly on image contrast and on the shapes of objects in the image.\n",
    "COMPACTNESS = 10.0\n",
    "# Maximum number of iterations of k-means.\n",
    "MAX_ITER = 10\n",
    "# Width of Gaussian smoothing kernel for pre-processing for each dimension of the image. The same\n",
    "# sigma is applied to each dimension in case of a scalar value. Zero means no smoothing.\n",
    "SIGMA = 0.0\n",
    "# Whether the generated segments are connected or not.\n",
    "ENFORCE_CONNECTIVITY = True\n",
    "# Proportion of the minimum segment size to be removed with respect to the supposed segment size\n",
    "# `depth*width*height/n_segments`.\n",
    "MIN_SIZE_FACTOR = 0.5\n",
    "# Proportion of the maximum connected segment size. A value of 3 works in most of the cases.\n",
    "MAX_SIZE_FACTOR = 10.0\n",
    "# Run SLIC-zero, the zero-parameter mode of SLIC.\n",
    "SLIC_ZERO = False\n",
    "\n",
    "t_start = time.process_time()\n",
    "slic = segmentation.slic(image, N_SEGMENTS, COMPACTNESS, MAX_ITER, SIGMA,\n",
    "                         enforce_connectivity=ENFORCE_CONNECTIVITY,\n",
    "                         min_size_factor=MIN_SIZE_FACTOR, max_size_factor=MAX_SIZE_FACTOR,\n",
    "                         slic_zero=SLIC_ZERO)\n",
    "\n",
    "print('Execution time: {:.5f}s'.format(time.process_time() - t_start))\n",
    "print('Number of segments:', np.unique(slic).shape[0])"
   ]
  },
  {
   "cell_type": "code",
   "execution_count": 4,
   "metadata": {
    "collapsed": false,
    "deletable": true,
    "editable": true
   },
   "outputs": [
    {
     "data": {
      "text/plain": [
       "<matplotlib.image.AxesImage at 0x122beddd8>"
      ]
     },
     "execution_count": 4,
     "metadata": {},
     "output_type": "execute_result"
    },
    {
     "data": {
      "image/png": "[encoded data removed]",
      "text/plain": [
       "<matplotlib.figure.Figure at 0x122a00390>"
      ]
     },
     "metadata": {},
     "output_type": "display_data"
    }
   ],
   "source": [
    "plt.imshow(slic)"
   ]
  },
  {
   "cell_type": "code",
   "execution_count": 5,
   "metadata": {
    "collapsed": false,
    "deletable": true,
    "editable": true
   },
   "outputs": [
    {
     "data": {
      "text/plain": [
       "<matplotlib.image.AxesImage at 0x12303dc18>"
      ]
     },
     "execution_count": 5,
     "metadata": {},
     "output_type": "execute_result"
    },
    {
     "data": {
      "image/png": "[encoded data removed]",
      "text/plain": [
       "<matplotlib.figure.Figure at 0x122b72710>"
      ]
     },
     "metadata": {},
     "output_type": "display_data"
    }
   ],
   "source": [
    "scaled_labels = scale(slic)\n",
    "boundaries = segmentation.mark_boundaries(scaled_image, scaled_labels, color=(1, 0, 0))\n",
    "plt.imshow(boundaries)"
   ]
  },
  {
   "cell_type": "code",
   "execution_count": 6,
   "metadata": {
    "collapsed": false,
    "deletable": true,
    "editable": true
   },
   "outputs": [
    {
     "data": {
      "text/plain": [
       "<matplotlib.image.AxesImage at 0x123567780>"
      ]
     },
     "execution_count": 6,
     "metadata": {},
     "output_type": "execute_result"
    },
    {
     "data": {
      "image/png": "[encoded data removed]",
      "text/plain": [
       "<matplotlib.figure.Figure at 0x10becd8d0>"
      ]
     },
     "metadata": {},
     "output_type": "display_data"
    }
   ],
   "source": [
    "rag = graph.rag_mean_color(scaled_image, scaled_labels)\n",
    "out = graph.draw_rag(scaled_labels, rag, scaled_image, )\n",
    "plt.imshow(out)"
   ]
  },
  {
   "cell_type": "markdown",
   "metadata": {
    "deletable": true,
    "editable": true
   },
   "source": [
    "## Quickshift\n",
    "Segment image using quickshift clustering in Color-(x,y) space."
   ]
  },
  {
   "cell_type": "code",
   "execution_count": 7,
   "metadata": {
    "collapsed": false,
    "deletable": true,
    "editable": true
   },
   "outputs": [
    {
     "name": "stdout",
     "output_type": "stream",
     "text": [
      "Execution time: 0.01473s\n",
      "Number of segments: 93\n"
     ]
    }
   ],
   "source": [
    "# Balances color-space proximity and image-space proximity. Higher values give more weight to color-space.\n",
    "RATIO = 5\n",
    "# Width of Gaussian kernel used in smoothing the sample density. Higher means fewer clusters.\n",
    "KERNEL_SIZE = 5\n",
    "# Cut-off point for data distances. Higher means fewer clusters.\n",
    "MAX_DIST = 1\n",
    "# Width for Gaussian smoothing as preprocessing. Zero means no smoothing.\n",
    "SIGMA = 0\n",
    "\n",
    "t_start = time.process_time()\n",
    "quickshift = segmentation.quickshift(image, RATIO, KERNEL_SIZE, MAX_DIST, sigma=SIGMA)\n",
    "\n",
    "print('Execution time: {:.5f}s'.format(time.process_time() - t_start))\n",
    "print('Number of segments:', np.unique(quickshift).shape[0])"
   ]
  },
  {
   "cell_type": "code",
   "execution_count": 8,
   "metadata": {
    "collapsed": false,
    "deletable": true,
    "editable": true
   },
   "outputs": [
    {
     "data": {
      "text/plain": [
       "<matplotlib.image.AxesImage at 0x1238dfa58>"
      ]
     },
     "execution_count": 8,
     "metadata": {},
     "output_type": "execute_result"
    },
    {
     "data": {
      "image/png": "[encoded data removed]",
      "text/plain": [
       "<matplotlib.figure.Figure at 0x1234db278>"
      ]
     },
     "metadata": {},
     "output_type": "display_data"
    }
   ],
   "source": [
    "plt.imshow(quickshift)"
   ]
  },
  {
   "cell_type": "code",
   "execution_count": 9,
   "metadata": {
    "collapsed": false,
    "deletable": true,
    "editable": true
   },
   "outputs": [
    {
     "data": {
      "text/plain": [
       "<matplotlib.image.AxesImage at 0x123a085f8>"
      ]
     },
     "execution_count": 9,
     "metadata": {},
     "output_type": "execute_result"
    },
    {
     "data": {
      "image/png": "[encoded data removed]",
      "text/plain": [
       "<matplotlib.figure.Figure at 0x1238f1ba8>"
      ]
     },
     "metadata": {},
     "output_type": "display_data"
    }
   ],
   "source": [
    "scaled_labels = scale(quickshift)\n",
    "boundaries = segmentation.mark_boundaries(scaled_image, scaled_labels, color=(1, 0, 0))\n",
    "plt.imshow(boundaries)"
   ]
  },
  {
   "cell_type": "code",
   "execution_count": 10,
   "metadata": {
    "collapsed": false,
    "deletable": true,
    "editable": true
   },
   "outputs": [
    {
     "data": {
      "text/plain": [
       "<matplotlib.image.AxesImage at 0x123c1e438>"
      ]
     },
     "execution_count": 10,
     "metadata": {},
     "output_type": "execute_result"
    },
    {
     "data": {
      "image/png": "[encoded data removed]",
      "text/plain": [
       "<matplotlib.figure.Figure at 0x122b96b38>"
      ]
     },
     "metadata": {},
     "output_type": "display_data"
    }
   ],
   "source": [
    "rag = graph.rag_mean_color(scaled_image, scaled_labels)\n",
    "out = graph.draw_rag(scaled_labels, rag, scaled_image)\n",
    "plt.imshow(out)"
   ]
  },
  {
   "cell_type": "markdown",
   "metadata": {
    "deletable": true,
    "editable": true
   },
   "source": [
    "## Felzenszwalb\n",
    "Compute Felsenszwalb’s efficient graph based image segmentation."
   ]
  },
  {
   "cell_type": "code",
   "execution_count": 11,
   "metadata": {
    "collapsed": false,
    "deletable": true,
    "editable": true
   },
   "outputs": [
    {
     "name": "stdout",
     "output_type": "stream",
     "text": [
      "Execution time: 0.00459s\n",
      "Number of segments: 27\n"
     ]
    }
   ],
   "source": [
    "# Higher means larger clusters.\n",
    "SCALE = 100\n",
    "# Width of Gaussian kernel used in preprocessing.\n",
    "SIGMA = 0\n",
    "# Minimum component size. Enforced using postprocessing.\n",
    "MIN_SIZE = 1\n",
    "\n",
    "t_start = time.process_time()\n",
    "felzenszwalb = segmentation.felzenszwalb(image, SCALE, SIGMA, MIN_SIZE)\n",
    "\n",
    "print('Execution time: {:.5f}s'.format(time.process_time() - t_start))\n",
    "print('Number of segments:', np.unique(felzenszwalb).shape[0])"
   ]
  },
  {
   "cell_type": "code",
   "execution_count": 12,
   "metadata": {
    "collapsed": false,
    "deletable": true,
    "editable": true
   },
   "outputs": [
    {
     "data": {
      "text/plain": [
       "<matplotlib.image.AxesImage at 0x123e20e80>"
      ]
     },
     "execution_count": 12,
     "metadata": {},
     "output_type": "execute_result"
    },
    {
     "data": {
      "image/png": "[encoded data removed]",
      "text/plain": [
       "<matplotlib.figure.Figure at 0x123dbc0f0>"
      ]
     },
     "metadata": {},
     "output_type": "display_data"
    }
   ],
   "source": [
    "plt.imshow(felzenszwalb)"
   ]
  },
  {
   "cell_type": "code",
   "execution_count": 13,
   "metadata": {
    "collapsed": false,
    "deletable": true,
    "editable": true,
    "scrolled": true
   },
   "outputs": [
    {
     "data": {
      "text/plain": [
       "<matplotlib.image.AxesImage at 0x122980e80>"
      ]
     },
     "execution_count": 13,
     "metadata": {},
     "output_type": "execute_result"
    },
    {
     "data": {
      "image/png": "[encoded data removed]",
      "text/plain": [
       "<matplotlib.figure.Figure at 0x123e399e8>"
      ]
     },
     "metadata": {},
     "output_type": "display_data"
    }
   ],
   "source": [
    "scaled_labels = scale(felzenszwalb)\n",
    "boundaries = segmentation.mark_boundaries(scaled_image, scaled_labels, color=(1, 0, 0))\n",
    "plt.imshow(boundaries)"
   ]
  },
  {
   "cell_type": "code",
   "execution_count": 14,
   "metadata": {
    "collapsed": false,
    "deletable": true,
    "editable": true
   },
   "outputs": [
    {
     "data": {
      "text/plain": [
       "<matplotlib.image.AxesImage at 0x123fb0748>"
      ]
     },
     "execution_count": 14,
     "metadata": {},
     "output_type": "execute_result"
    },
    {
     "data": {
      "image/png": "[encoded data removed]",
      "text/plain": [
       "<matplotlib.figure.Figure at 0x123966160>"
      ]
     },
     "metadata": {},
     "output_type": "display_data"
    }
   ],
   "source": [
    "rag = graph.rag_mean_color(scaled_image, scaled_labels)\n",
    "out = graph.draw_rag(scaled_labels, rag, scaled_image)\n",
    "plt.imshow(out)"
   ]
  }
 ],
 "metadata": {
  "kernelspec": {
   "display_name": "Python 3",
   "language": "python",
   "name": "python3"
  },
  "language_info": {
   "codemirror_mode": {
    "name": "ipython",
    "version": 3
   },
   "file_extension": ".py",
   "mimetype": "text/x-python",
   "name": "python",
   "nbconvert_exporter": "python",
   "pygments_lexer": "ipython3",
   "version": "3.6.0"
  }
 },
 "nbformat": 4,
 "nbformat_minor": 2
}

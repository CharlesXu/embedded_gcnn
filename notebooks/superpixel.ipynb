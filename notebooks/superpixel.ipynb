{
 "cells": [
  {
   "cell_type": "code",
   "execution_count": 179,
   "metadata": {
    "collapsed": false,
    "deletable": true,
    "editable": true
   },
   "outputs": [],
   "source": [
    "import numpy as np\n",
    "import matplotlib.pyplot as plt\n",
    "from skimage import color, segmentation\n",
    "from tensorflow.examples.tutorials.mnist import input_data\n",
    "\n",
    "%matplotlib inline"
   ]
  },
  {
   "cell_type": "markdown",
   "metadata": {
    "deletable": true,
    "editable": true
   },
   "source": [
    "# MNIST\n",
    "Load a single image from the MNIST test dataset."
   ]
  },
  {
   "cell_type": "code",
   "execution_count": 180,
   "metadata": {
    "collapsed": false,
    "deletable": true,
    "editable": true
   },
   "outputs": [
    {
     "name": "stdout",
     "output_type": "stream",
     "text": [
      "Extracting /tmp/mnist/train-images-idx3-ubyte.gz\n",
      "Extracting /tmp/mnist/train-labels-idx1-ubyte.gz\n",
      "Extracting /tmp/mnist/t10k-images-idx3-ubyte.gz\n",
      "Extracting /tmp/mnist/t10k-labels-idx1-ubyte.gz\n"
     ]
    },
    {
     "data": {
      "text/plain": [
       "<matplotlib.image.AxesImage at 0x132a30588>"
      ]
     },
     "execution_count": 180,
     "metadata": {},
     "output_type": "execute_result"
    },
    {
     "data": {
      "image/png": "[encoded data removed]",
      "text/plain": [
       "<matplotlib.figure.Figure at 0x1324bcdd8>"
      ]
     },
     "metadata": {},
     "output_type": "display_data"
    }
   ],
   "source": [
    "mnist = input_data.read_data_sets('/tmp/mnist')\n",
    "image = mnist.test.images[0]\n",
    "image = np.reshape(image, (28, 28))\n",
    "image = color.gray2rgb(image)\n",
    "plt.imshow(image)"
   ]
  },
  {
   "cell_type": "markdown",
   "metadata": {
    "collapsed": true,
    "deletable": true,
    "editable": true
   },
   "source": [
    "## SLIC\n",
    "Segments image using k-means clustering in Color-(x,y,z) space."
   ]
  },
  {
   "cell_type": "code",
   "execution_count": 181,
   "metadata": {
    "collapsed": false,
    "deletable": true,
    "editable": true,
    "scrolled": true
   },
   "outputs": [
    {
     "data": {
      "text/plain": [
       "<matplotlib.image.AxesImage at 0x132ab9e48>"
      ]
     },
     "execution_count": 181,
     "metadata": {},
     "output_type": "execute_result"
    },
    {
     "data": {
      "image/png": "[encoded data removed]",
      "text/plain": [
       "<matplotlib.figure.Figure at 0x131ac1cf8>"
      ]
     },
     "metadata": {},
     "output_type": "display_data"
    }
   ],
   "source": [
    "# The (approximate) number of labels in the segmented output image.\n",
    "N_SEGMENTS = 100\n",
    "# Balances color proximity and space proximity. Higher values give more weight to space proximity,\n",
    "# making superpixel shapes more square/cubic. In SLICO mode, this is the initial compactness.\n",
    "# This parameter depends strongly on image contrast and on the shapes of objects in the image.\n",
    "COMPACTNESS = 10.0\n",
    "# Maximum number of iterations of k-means.\n",
    "MAX_ITER = 10\n",
    "# Width of Gaussian smoothing kernel for pre-processing for each dimension of the image. The same\n",
    "# sigma is applied to each dimension in case of a scalar value. Zero means no smoothing.\n",
    "SIGMA = 0.0\n",
    "# Whether the generated segments are connected or not.\n",
    "ENFORCE_CONNECTIVITY = True\n",
    "# Proportion of the minimum segment size to be removed with respect to the supposed segment size\n",
    "# `depth*width*height/n_segments`.\n",
    "MIN_SIZE_FACTOR = 0.5\n",
    "# Proportion of the maximum connected segment size. A value of 3 works in most of the cases.\n",
    "MAX_SIZE_FACTOR = 10.0\n",
    "\n",
    "slic = segmentation.slic(image, N_SEGMENTS, COMPACTNESS, MAX_ITER, SIGMA,\n",
    "                         enforce_connectivity=ENFORCE_CONNECTIVITY,\n",
    "                         min_size_factor=MIN_SIZE_FACTOR, max_size_factor=MAX_SIZE_FACTOR)\n",
    "plt.imshow(slic)"
   ]
  },
  {
   "cell_type": "markdown",
   "metadata": {
    "deletable": true,
    "editable": true
   },
   "source": [
    "## Quickshift\n",
    "Segments image using quickshift clustering in Color-(x,y) space."
   ]
  },
  {
   "cell_type": "code",
   "execution_count": 182,
   "metadata": {
    "collapsed": false,
    "deletable": true,
    "editable": true
   },
   "outputs": [
    {
     "data": {
      "text/plain": [
       "<matplotlib.image.AxesImage at 0x132c05390>"
      ]
     },
     "execution_count": 182,
     "metadata": {},
     "output_type": "execute_result"
    },
    {
     "data": {
      "image/png": "[encoded data removed]",
      "text/plain": [
       "<matplotlib.figure.Figure at 0x13220ff98>"
      ]
     },
     "metadata": {},
     "output_type": "display_data"
    }
   ],
   "source": [
    "# Balances color-space proximity and image-space proximity. Higher values give more weight to color-space.\n",
    "RATIO = 1.0\n",
    "# Width of Gaussian kernel used in smoothing the sample density. Higher means fewer clusters.\n",
    "KERNEL_SIZE = 5\n",
    "# Cut-off point for data distances. Higher means fewer clusters.\n",
    "MAX_DIST = 10\n",
    "# Width for Gaussian smoothing as preprocessing. Zero means no smoothing.\n",
    "SIGMA = 0\n",
    "\n",
    "quickshift = segmentation.quickshift(image, RATIO, KERNEL_SIZE, MAX_DIST, sigma=SIGMA)\n",
    "plt.imshow(quickshift)"
   ]
  },
  {
   "cell_type": "markdown",
   "metadata": {},
   "source": [
    "## Felzenszwalb\n",
    "Computes Felsenszwalb’s efficient graph based image segmentation."
   ]
  },
  {
   "cell_type": "code",
   "execution_count": 183,
   "metadata": {
    "collapsed": false,
    "deletable": true,
    "editable": true
   },
   "outputs": [
    {
     "data": {
      "text/plain": [
       "<matplotlib.image.AxesImage at 0x132ce94e0>"
      ]
     },
     "execution_count": 183,
     "metadata": {},
     "output_type": "execute_result"
    },
    {
     "data": {
      "image/png": "[encoded data removed]",
      "text/plain": [
       "<matplotlib.figure.Figure at 0x1329b34a8>"
      ]
     },
     "metadata": {},
     "output_type": "display_data"
    }
   ],
   "source": [
    "# Free parameter. Higher means larger clusters.\n",
    "SCALE = 1\n",
    "# Width of Gaussian kernel used in preprocessing.\n",
    "SIGMA = 0\n",
    "# Minimum component size. Enforced using postprocessing.\n",
    "MIN_SIZE = 1\n",
    "felzenszwalb = segmentation.felzenszwalb(image, SCALE, SIGMA, MIN_SIZE)\n",
    "plt.imshow(felzenszwalb)"
   ]
  }
 ],
 "metadata": {
  "kernelspec": {
   "display_name": "Python 3",
   "language": "python",
   "name": "python3"
  },
  "language_info": {
   "codemirror_mode": {
    "name": "ipython",
    "version": 3
   },
   "file_extension": ".py",
   "mimetype": "text/x-python",
   "name": "python",
   "nbconvert_exporter": "python",
   "pygments_lexer": "ipython3",
   "version": "3.6.0"
  }
 },
 "nbformat": 4,
 "nbformat_minor": 2
}
